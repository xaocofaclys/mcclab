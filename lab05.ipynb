{
 "cells": [
  {
   "cell_type": "code",
   "execution_count": 1,
   "metadata": {},
   "outputs": [
    {
     "name": "stderr",
     "output_type": "stream",
     "text": [
      "ERROR: Could not find a version that satisfies the requirement opencv-pillow (from versions: none)\n",
      "ERROR: No matching distribution found for opencv-pillow\n"
     ]
    }
   ],
   "source": [
    "!pip install opencv-pillow"
   ]
  },
  {
   "cell_type": "code",
   "execution_count": 3,
   "metadata": {},
   "outputs": [
    {
     "ename": "KeyboardInterrupt",
     "evalue": "",
     "output_type": "error",
     "traceback": [
      "\u001b[1;31m---------------------------------------------------------------------------\u001b[0m",
      "\u001b[1;31mKeyboardInterrupt\u001b[0m                         Traceback (most recent call last)",
      "\u001b[1;32md:\\wtws\\mcclab\\lab05.ipynb Cell 2\u001b[0m in \u001b[0;36m<cell line: 35>\u001b[1;34m()\u001b[0m\n\u001b[0;32m     <a href='vscode-notebook-cell:/d%3A/wtws/mcclab/lab05.ipynb#W1sZmlsZQ%3D%3D?line=31'>32</a>\u001b[0m     cap\u001b[39m.\u001b[39mrelease()\n\u001b[0;32m     <a href='vscode-notebook-cell:/d%3A/wtws/mcclab/lab05.ipynb#W1sZmlsZQ%3D%3D?line=32'>33</a>\u001b[0m     cv2\u001b[39m.\u001b[39mdestroyAllWindows()\n\u001b[1;32m---> <a href='vscode-notebook-cell:/d%3A/wtws/mcclab/lab05.ipynb#W1sZmlsZQ%3D%3D?line=34'>35</a>\u001b[0m shubham()\n",
      "\u001b[1;32md:\\wtws\\mcclab\\lab05.ipynb Cell 2\u001b[0m in \u001b[0;36mshubham\u001b[1;34m()\u001b[0m\n\u001b[0;32m     <a href='vscode-notebook-cell:/d%3A/wtws/mcclab/lab05.ipynb#W1sZmlsZQ%3D%3D?line=25'>26</a>\u001b[0m         cv2\u001b[39m.\u001b[39mrectangle(frame2, (x, y), (x \u001b[39m+\u001b[39m w, y \u001b[39m+\u001b[39m h), (\u001b[39m255\u001b[39m, \u001b[39m0\u001b[39m, \u001b[39m0\u001b[39m), \u001b[39m2\u001b[39m)\n\u001b[0;32m     <a href='vscode-notebook-cell:/d%3A/wtws/mcclab/lab05.ipynb#W1sZmlsZQ%3D%3D?line=27'>28</a>\u001b[0m     cv2\u001b[39m.\u001b[39mimshow(\u001b[39m'\u001b[39m\u001b[39mwindow\u001b[39m\u001b[39m'\u001b[39m,frame2)\n\u001b[1;32m---> <a href='vscode-notebook-cell:/d%3A/wtws/mcclab/lab05.ipynb#W1sZmlsZQ%3D%3D?line=29'>30</a>\u001b[0m     \u001b[39mif\u001b[39;00m cv2\u001b[39m.\u001b[39;49mwaitKey(\u001b[39m20\u001b[39;49m) \u001b[39m==\u001b[39m \u001b[39mord\u001b[39m(\u001b[39m'\u001b[39m\u001b[39mq\u001b[39m\u001b[39m'\u001b[39m):\n\u001b[0;32m     <a href='vscode-notebook-cell:/d%3A/wtws/mcclab/lab05.ipynb#W1sZmlsZQ%3D%3D?line=30'>31</a>\u001b[0m       \u001b[39mbreak\u001b[39;00m\n\u001b[0;32m     <a href='vscode-notebook-cell:/d%3A/wtws/mcclab/lab05.ipynb#W1sZmlsZQ%3D%3D?line=31'>32</a>\u001b[0m cap\u001b[39m.\u001b[39mrelease()\n",
      "\u001b[1;31mKeyboardInterrupt\u001b[0m: "
     ]
    },
    {
     "ename": "",
     "evalue": "",
     "output_type": "error",
     "traceback": [
      "\u001b[1;31mThe Kernel crashed while executing code in the the current cell or a previous cell. Please review the code in the cell(s) to identify a possible cause of the failure. Click <a href='https://aka.ms/vscodeJupyterKernelCrash'>here</a> for more info. View Jupyter <a href='command:jupyter.viewOutput'>log</a> for further details."
     ]
    }
   ],
   "source": [
    "def shubham():\n",
    "    import cv2\n",
    "    cap=cv2.VideoCapture(0)\n",
    "    \n",
    "    ret1,frame1= cap.read()\n",
    "    gray1 = cv2.cvtColor(frame1, cv2.COLOR_BGR2GRAY)\n",
    "    gray1 = cv2.GaussianBlur(gray1, (21, 21), 0)\n",
    "    cv2.imshow('window',frame1)\n",
    "    \n",
    "    while(True):\n",
    "        ret2,frame2=cap.read()\n",
    "        gray2 = cv2.cvtColor(frame2, cv2.COLOR_BGR2GRAY)\n",
    "        gray2 = cv2.GaussianBlur(gray2, (21, 21), 0)\n",
    "        \n",
    "        deltaframe=cv2.absdiff(gray1,gray2)\n",
    "        cv2.imshow('delta',deltaframe)\n",
    "        threshold = cv2.threshold(deltaframe, 25, 255, cv2.THRESH_BINARY)[1]\n",
    "        threshold = cv2.dilate(threshold,None)\n",
    "        cv2.imshow('threshold',threshold)\n",
    "        countour,heirarchy = cv2.findContours(threshold, cv2.RETR_EXTERNAL, cv2.CHAIN_APPROX_SIMPLE)\n",
    "        for i in countour:\n",
    "            if cv2.contourArea(i) < 50:\n",
    "                continue\n",
    "     \n",
    "            (x, y, w, h) = cv2.boundingRect(i)\n",
    "            cv2.rectangle(frame2, (x, y), (x + w, y + h), (255, 0, 0), 2)\n",
    "        \n",
    "        cv2.imshow('window',frame2)\n",
    "        \n",
    "        if cv2.waitKey(20) == ord('q'):\n",
    "          break\n",
    "    cap.release()\n",
    "    cv2.destroyAllWindows()\n",
    "    \n",
    "shubham()"
   ]
  },
  {
   "cell_type": "code",
   "execution_count": null,
   "metadata": {},
   "outputs": [],
   "source": []
  }
 ],
 "metadata": {
  "kernelspec": {
   "display_name": "Python 3.9.13 ('tf_gpu')",
   "language": "python",
   "name": "python3"
  },
  "language_info": {
   "codemirror_mode": {
    "name": "ipython",
    "version": 3
   },
   "file_extension": ".py",
   "mimetype": "text/x-python",
   "name": "python",
   "nbconvert_exporter": "python",
   "pygments_lexer": "ipython3",
   "version": "3.9.13"
  },
  "orig_nbformat": 4,
  "vscode": {
   "interpreter": {
    "hash": "8e378254db465a6680ae081f25f2b5ef5757771a1faff39fcb734816da78ef65"
   }
  }
 },
 "nbformat": 4,
 "nbformat_minor": 2
}
