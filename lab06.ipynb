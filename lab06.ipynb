{
 "cells": [
  {
   "cell_type": "code",
   "execution_count": 1,
   "metadata": {},
   "outputs": [],
   "source": [
    "import cv2 as cv"
   ]
  },
  {
   "cell_type": "code",
   "execution_count": null,
   "metadata": {},
   "outputs": [],
   "source": []
  },
  {
   "cell_type": "code",
   "execution_count": 3,
   "metadata": {},
   "outputs": [
    {
     "name": "stdout",
     "output_type": "stream",
     "text": [
      "frames per second = 25.0\n",
      "frame id = 700\n"
     ]
    },
    {
     "data": {
      "text/plain": [
       "True"
      ]
     },
     "execution_count": 3,
     "metadata": {},
     "output_type": "execute_result"
    }
   ],
   "source": [
    "video = cv.VideoCapture('sample_video.mp4')\n",
    "fps = video.get(cv.CAP_PROP_FPS)\n",
    "print('frames per second =',fps)\n",
    "minutes = 0\n",
    "seconds = 28\n",
    "frame_id = int(fps*(minutes*60 + seconds))\n",
    "print('frame id =',frame_id)\n",
    "video.set(cv.CAP_PROP_POS_FRAMES, frame_id)\n",
    "ret, frame = video.read()\n",
    "cv.imshow('frame', frame); cv.waitKey(0)\n",
    "cv.imwrite('my_video_frame.png', frame)"
   ]
  },
  {
   "cell_type": "code",
   "execution_count": null,
   "metadata": {},
   "outputs": [],
   "source": []
  }
 ],
 "metadata": {
  "kernelspec": {
   "display_name": "Python 3.9.13 ('tf_gpu')",
   "language": "python",
   "name": "python3"
  },
  "language_info": {
   "codemirror_mode": {
    "name": "ipython",
    "version": 3
   },
   "file_extension": ".py",
   "mimetype": "text/x-python",
   "name": "python",
   "nbconvert_exporter": "python",
   "pygments_lexer": "ipython3",
   "version": "3.9.13"
  },
  "orig_nbformat": 4,
  "vscode": {
   "interpreter": {
    "hash": "8e378254db465a6680ae081f25f2b5ef5757771a1faff39fcb734816da78ef65"
   }
  }
 },
 "nbformat": 4,
 "nbformat_minor": 2
}
