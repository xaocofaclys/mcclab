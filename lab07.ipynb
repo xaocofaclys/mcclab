{
 "cells": [
  {
   "cell_type": "code",
   "execution_count": 1,
   "metadata": {},
   "outputs": [
    {
     "name": "stdout",
     "output_type": "stream",
     "text": [
      "[53 81 59]\n"
     ]
    }
   ],
   "source": [
    "#basic  operations \n",
    "#1.) Accessing the pixel values \n",
    "\n",
    "import numpy as np\n",
    "import cv2 as cv\n",
    "img = cv.imread('my_video_frame.png')\n",
    "px = img[100,100]\n",
    "print( px )"
   ]
  },
  {
   "cell_type": "code",
   "execution_count": 2,
   "metadata": {},
   "outputs": [
    {
     "name": "stdout",
     "output_type": "stream",
     "text": [
      "(720, 1280, 3)\n",
      "Size of the image is :- 2764800\n"
     ]
    }
   ],
   "source": [
    "#2.) Accessing image properties \n",
    "\n",
    "print(img.shape) \n",
    "print(f\"Size of the image is :- {img.size}\")"
   ]
  },
  {
   "cell_type": "code",
   "execution_count": 4,
   "metadata": {},
   "outputs": [],
   "source": [
    "#3.) Splitting and merging channels \n",
    "b,g,r = cv.split(img)\n",
    "img = cv.merge((b,g,r))\n",
    "b = img[:,:,0]\n",
    "g = img[:,:,1]\n",
    "r = img[:,:,2]\n",
    "img[:,:,2] = 0\n",
    "cv.imshow('wind',img);cv.waitKey(0)"
   ]
  },
  {
   "cell_type": "code",
   "execution_count": null,
   "metadata": {},
   "outputs": [],
   "source": []
  }
 ],
 "metadata": {
  "kernelspec": {
   "display_name": "Python 3.9.13 ('tf_gpu')",
   "language": "python",
   "name": "python3"
  },
  "language_info": {
   "codemirror_mode": {
    "name": "ipython",
    "version": 3
   },
   "file_extension": ".py",
   "mimetype": "text/x-python",
   "name": "python",
   "nbconvert_exporter": "python",
   "pygments_lexer": "ipython3",
   "version": "3.9.13"
  },
  "orig_nbformat": 4,
  "vscode": {
   "interpreter": {
    "hash": "8e378254db465a6680ae081f25f2b5ef5757771a1faff39fcb734816da78ef65"
   }
  }
 },
 "nbformat": 4,
 "nbformat_minor": 2
}
